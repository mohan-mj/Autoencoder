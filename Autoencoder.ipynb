{
  "nbformat": 4,
  "nbformat_minor": 0,
  "metadata": {
    "colab": {
      "name": "Autoencoder",
      "provenance": [],
      "include_colab_link": true
    },
    "kernelspec": {
      "name": "python3",
      "display_name": "Python 3"
    }
  },
  "cells": [
    {
      "cell_type": "markdown",
      "metadata": {
        "id": "view-in-github",
        "colab_type": "text"
      },
      "source": [
        "<a href=\"https://colab.research.google.com/github/mohan-mj/Autoencoder/blob/master/Autoencoder.ipynb\" target=\"_parent\"><img src=\"https://colab.research.google.com/assets/colab-badge.svg\" alt=\"Open In Colab\"/></a>"
      ]
    },
    {
      "cell_type": "markdown",
      "metadata": {
        "id": "qhTIOd_TlpL9",
        "colab_type": "text"
      },
      "source": [
        "![alt text](https://github.com/mohan-mj/Autoencoder/blob/master/2.png?raw=true)"
      ]
    },
    {
      "cell_type": "markdown",
      "metadata": {
        "id": "Zq1OIBx6ufyx",
        "colab_type": "text"
      },
      "source": [
        "1- Encoder: In which the model learns how to reduce the input dimensions and compress the input data into an encoded representation.\n",
        "\n",
        "2- Bottleneck: which is the layer that contains the compressed representation of the input data. This is the lowest possible dimensions of the input data.\n",
        "\n",
        "3- Decoder: In which the model learns how to reconstruct the data from the encoded representation to be as close to the original input as possible.\n",
        "\n",
        "4- Reconstruction Loss: This is the method that measures measure how well the decoder is performing and how close the output is to the original input."
      ]
    },
    {
      "cell_type": "markdown",
      "metadata": {
        "id": "S-jZrWwfsG98",
        "colab_type": "text"
      },
      "source": [
        "![alt text](https://github.com/mohan-mj/Autoencoder/blob/master/1.jpg?raw=true)"
      ]
    },
    {
      "cell_type": "code",
      "metadata": {
        "id": "ugGdznaVmEij",
        "colab_type": "code",
        "colab": {}
      },
      "source": [
        "import numpy as np\n",
        "import pandas as pd\n",
        "import torch\n",
        "import torch.nn as nn\n",
        "import torch.optim as optim\n",
        "import torch.nn.parallel\n",
        "import torch.utils.data\n",
        "from torch.autograd import Variable\n",
        "import zipfile"
      ],
      "execution_count": 0,
      "outputs": []
    },
    {
      "cell_type": "code",
      "metadata": {
        "id": "5jIPKbHZNDV8",
        "colab_type": "code",
        "colab": {}
      },
      "source": [
        "zf = zipfile.ZipFile('ml-1m.zip')\n",
        "zf.extractall()\n",
        "movies = pd.read_csv('ml-1m/movies.dat', sep='::', header=None, engine='python', encoding='latin-1')"
      ],
      "execution_count": 0,
      "outputs": []
    },
    {
      "cell_type": "code",
      "metadata": {
        "id": "-QElp8JJP91k",
        "colab_type": "code",
        "colab": {
          "base_uri": "https://localhost:8080/",
          "height": 202
        },
        "outputId": "77ac752a-8dd3-4b36-c1a9-bcee85c02591"
      },
      "source": [
        "movies.head()"
      ],
      "execution_count": 61,
      "outputs": [
        {
          "output_type": "execute_result",
          "data": {
            "text/html": [
              "<div>\n",
              "<style scoped>\n",
              "    .dataframe tbody tr th:only-of-type {\n",
              "        vertical-align: middle;\n",
              "    }\n",
              "\n",
              "    .dataframe tbody tr th {\n",
              "        vertical-align: top;\n",
              "    }\n",
              "\n",
              "    .dataframe thead th {\n",
              "        text-align: right;\n",
              "    }\n",
              "</style>\n",
              "<table border=\"1\" class=\"dataframe\">\n",
              "  <thead>\n",
              "    <tr style=\"text-align: right;\">\n",
              "      <th></th>\n",
              "      <th>0</th>\n",
              "      <th>1</th>\n",
              "      <th>2</th>\n",
              "    </tr>\n",
              "  </thead>\n",
              "  <tbody>\n",
              "    <tr>\n",
              "      <th>0</th>\n",
              "      <td>1</td>\n",
              "      <td>Toy Story (1995)</td>\n",
              "      <td>Animation|Children's|Comedy</td>\n",
              "    </tr>\n",
              "    <tr>\n",
              "      <th>1</th>\n",
              "      <td>2</td>\n",
              "      <td>Jumanji (1995)</td>\n",
              "      <td>Adventure|Children's|Fantasy</td>\n",
              "    </tr>\n",
              "    <tr>\n",
              "      <th>2</th>\n",
              "      <td>3</td>\n",
              "      <td>Grumpier Old Men (1995)</td>\n",
              "      <td>Comedy|Romance</td>\n",
              "    </tr>\n",
              "    <tr>\n",
              "      <th>3</th>\n",
              "      <td>4</td>\n",
              "      <td>Waiting to Exhale (1995)</td>\n",
              "      <td>Comedy|Drama</td>\n",
              "    </tr>\n",
              "    <tr>\n",
              "      <th>4</th>\n",
              "      <td>5</td>\n",
              "      <td>Father of the Bride Part II (1995)</td>\n",
              "      <td>Comedy</td>\n",
              "    </tr>\n",
              "  </tbody>\n",
              "</table>\n",
              "</div>"
            ],
            "text/plain": [
              "   0                                   1                             2\n",
              "0  1                    Toy Story (1995)   Animation|Children's|Comedy\n",
              "1  2                      Jumanji (1995)  Adventure|Children's|Fantasy\n",
              "2  3             Grumpier Old Men (1995)                Comedy|Romance\n",
              "3  4            Waiting to Exhale (1995)                  Comedy|Drama\n",
              "4  5  Father of the Bride Part II (1995)                        Comedy"
            ]
          },
          "metadata": {
            "tags": []
          },
          "execution_count": 61
        }
      ]
    },
    {
      "cell_type": "code",
      "metadata": {
        "id": "Hqd57AT4S7h5",
        "colab_type": "code",
        "colab": {
          "base_uri": "https://localhost:8080/",
          "height": 35
        },
        "outputId": "1b5f91e1-e52e-4ad4-bb28-c2edf7019b1d"
      },
      "source": [
        "movies.shape"
      ],
      "execution_count": 62,
      "outputs": [
        {
          "output_type": "execute_result",
          "data": {
            "text/plain": [
              "(3883, 3)"
            ]
          },
          "metadata": {
            "tags": []
          },
          "execution_count": 62
        }
      ]
    },
    {
      "cell_type": "code",
      "metadata": {
        "id": "y4Zc8g4TSSk2",
        "colab_type": "code",
        "colab": {
          "base_uri": "https://localhost:8080/",
          "height": 202
        },
        "outputId": "c49c805c-49e5-43cf-8e92-f991fda1083f"
      },
      "source": [
        "users = pd.read_csv('ml-1m/users.dat', sep='::', header=None, engine='python', encoding='latin-1')\n",
        "users.head()"
      ],
      "execution_count": 63,
      "outputs": [
        {
          "output_type": "execute_result",
          "data": {
            "text/html": [
              "<div>\n",
              "<style scoped>\n",
              "    .dataframe tbody tr th:only-of-type {\n",
              "        vertical-align: middle;\n",
              "    }\n",
              "\n",
              "    .dataframe tbody tr th {\n",
              "        vertical-align: top;\n",
              "    }\n",
              "\n",
              "    .dataframe thead th {\n",
              "        text-align: right;\n",
              "    }\n",
              "</style>\n",
              "<table border=\"1\" class=\"dataframe\">\n",
              "  <thead>\n",
              "    <tr style=\"text-align: right;\">\n",
              "      <th></th>\n",
              "      <th>0</th>\n",
              "      <th>1</th>\n",
              "      <th>2</th>\n",
              "      <th>3</th>\n",
              "      <th>4</th>\n",
              "    </tr>\n",
              "  </thead>\n",
              "  <tbody>\n",
              "    <tr>\n",
              "      <th>0</th>\n",
              "      <td>1</td>\n",
              "      <td>F</td>\n",
              "      <td>1</td>\n",
              "      <td>10</td>\n",
              "      <td>48067</td>\n",
              "    </tr>\n",
              "    <tr>\n",
              "      <th>1</th>\n",
              "      <td>2</td>\n",
              "      <td>M</td>\n",
              "      <td>56</td>\n",
              "      <td>16</td>\n",
              "      <td>70072</td>\n",
              "    </tr>\n",
              "    <tr>\n",
              "      <th>2</th>\n",
              "      <td>3</td>\n",
              "      <td>M</td>\n",
              "      <td>25</td>\n",
              "      <td>15</td>\n",
              "      <td>55117</td>\n",
              "    </tr>\n",
              "    <tr>\n",
              "      <th>3</th>\n",
              "      <td>4</td>\n",
              "      <td>M</td>\n",
              "      <td>45</td>\n",
              "      <td>7</td>\n",
              "      <td>02460</td>\n",
              "    </tr>\n",
              "    <tr>\n",
              "      <th>4</th>\n",
              "      <td>5</td>\n",
              "      <td>M</td>\n",
              "      <td>25</td>\n",
              "      <td>20</td>\n",
              "      <td>55455</td>\n",
              "    </tr>\n",
              "  </tbody>\n",
              "</table>\n",
              "</div>"
            ],
            "text/plain": [
              "   0  1   2   3      4\n",
              "0  1  F   1  10  48067\n",
              "1  2  M  56  16  70072\n",
              "2  3  M  25  15  55117\n",
              "3  4  M  45   7  02460\n",
              "4  5  M  25  20  55455"
            ]
          },
          "metadata": {
            "tags": []
          },
          "execution_count": 63
        }
      ]
    },
    {
      "cell_type": "code",
      "metadata": {
        "id": "DhRB_I8mSfm-",
        "colab_type": "code",
        "colab": {
          "base_uri": "https://localhost:8080/",
          "height": 35
        },
        "outputId": "37f2ae6a-10a3-48df-bafc-7f3c01f1aeed"
      },
      "source": [
        "users.shape"
      ],
      "execution_count": 64,
      "outputs": [
        {
          "output_type": "execute_result",
          "data": {
            "text/plain": [
              "(6040, 5)"
            ]
          },
          "metadata": {
            "tags": []
          },
          "execution_count": 64
        }
      ]
    },
    {
      "cell_type": "code",
      "metadata": {
        "id": "Bdo-WlkBStj7",
        "colab_type": "code",
        "colab": {
          "base_uri": "https://localhost:8080/",
          "height": 202
        },
        "outputId": "d29b5f72-30f4-4fab-a39a-ca0a24d57a24"
      },
      "source": [
        "ratings = pd.read_csv('ml-1m/ratings.dat', sep='::', header=None, engine='python', encoding='latin-1')\n",
        "ratings.head()"
      ],
      "execution_count": 65,
      "outputs": [
        {
          "output_type": "execute_result",
          "data": {
            "text/html": [
              "<div>\n",
              "<style scoped>\n",
              "    .dataframe tbody tr th:only-of-type {\n",
              "        vertical-align: middle;\n",
              "    }\n",
              "\n",
              "    .dataframe tbody tr th {\n",
              "        vertical-align: top;\n",
              "    }\n",
              "\n",
              "    .dataframe thead th {\n",
              "        text-align: right;\n",
              "    }\n",
              "</style>\n",
              "<table border=\"1\" class=\"dataframe\">\n",
              "  <thead>\n",
              "    <tr style=\"text-align: right;\">\n",
              "      <th></th>\n",
              "      <th>0</th>\n",
              "      <th>1</th>\n",
              "      <th>2</th>\n",
              "      <th>3</th>\n",
              "    </tr>\n",
              "  </thead>\n",
              "  <tbody>\n",
              "    <tr>\n",
              "      <th>0</th>\n",
              "      <td>1</td>\n",
              "      <td>1193</td>\n",
              "      <td>5</td>\n",
              "      <td>978300760</td>\n",
              "    </tr>\n",
              "    <tr>\n",
              "      <th>1</th>\n",
              "      <td>1</td>\n",
              "      <td>661</td>\n",
              "      <td>3</td>\n",
              "      <td>978302109</td>\n",
              "    </tr>\n",
              "    <tr>\n",
              "      <th>2</th>\n",
              "      <td>1</td>\n",
              "      <td>914</td>\n",
              "      <td>3</td>\n",
              "      <td>978301968</td>\n",
              "    </tr>\n",
              "    <tr>\n",
              "      <th>3</th>\n",
              "      <td>1</td>\n",
              "      <td>3408</td>\n",
              "      <td>4</td>\n",
              "      <td>978300275</td>\n",
              "    </tr>\n",
              "    <tr>\n",
              "      <th>4</th>\n",
              "      <td>1</td>\n",
              "      <td>2355</td>\n",
              "      <td>5</td>\n",
              "      <td>978824291</td>\n",
              "    </tr>\n",
              "  </tbody>\n",
              "</table>\n",
              "</div>"
            ],
            "text/plain": [
              "   0     1  2          3\n",
              "0  1  1193  5  978300760\n",
              "1  1   661  3  978302109\n",
              "2  1   914  3  978301968\n",
              "3  1  3408  4  978300275\n",
              "4  1  2355  5  978824291"
            ]
          },
          "metadata": {
            "tags": []
          },
          "execution_count": 65
        }
      ]
    },
    {
      "cell_type": "code",
      "metadata": {
        "id": "M4uoX8OhSxW2",
        "colab_type": "code",
        "colab": {
          "base_uri": "https://localhost:8080/",
          "height": 202
        },
        "outputId": "8a0d8b4a-4010-4582-837a-3151e94c936d"
      },
      "source": [
        "zf = zipfile.ZipFile('ml-100k.zip')\n",
        "zf.extractall()\n",
        "training_set = pd.read_csv('ml-100k/u1.base', delimiter='\\t')\n",
        "training_set.head()"
      ],
      "execution_count": 66,
      "outputs": [
        {
          "output_type": "execute_result",
          "data": {
            "text/html": [
              "<div>\n",
              "<style scoped>\n",
              "    .dataframe tbody tr th:only-of-type {\n",
              "        vertical-align: middle;\n",
              "    }\n",
              "\n",
              "    .dataframe tbody tr th {\n",
              "        vertical-align: top;\n",
              "    }\n",
              "\n",
              "    .dataframe thead th {\n",
              "        text-align: right;\n",
              "    }\n",
              "</style>\n",
              "<table border=\"1\" class=\"dataframe\">\n",
              "  <thead>\n",
              "    <tr style=\"text-align: right;\">\n",
              "      <th></th>\n",
              "      <th>1</th>\n",
              "      <th>1.1</th>\n",
              "      <th>5</th>\n",
              "      <th>874965758</th>\n",
              "    </tr>\n",
              "  </thead>\n",
              "  <tbody>\n",
              "    <tr>\n",
              "      <th>0</th>\n",
              "      <td>1</td>\n",
              "      <td>2</td>\n",
              "      <td>3</td>\n",
              "      <td>876893171</td>\n",
              "    </tr>\n",
              "    <tr>\n",
              "      <th>1</th>\n",
              "      <td>1</td>\n",
              "      <td>3</td>\n",
              "      <td>4</td>\n",
              "      <td>878542960</td>\n",
              "    </tr>\n",
              "    <tr>\n",
              "      <th>2</th>\n",
              "      <td>1</td>\n",
              "      <td>4</td>\n",
              "      <td>3</td>\n",
              "      <td>876893119</td>\n",
              "    </tr>\n",
              "    <tr>\n",
              "      <th>3</th>\n",
              "      <td>1</td>\n",
              "      <td>5</td>\n",
              "      <td>3</td>\n",
              "      <td>889751712</td>\n",
              "    </tr>\n",
              "    <tr>\n",
              "      <th>4</th>\n",
              "      <td>1</td>\n",
              "      <td>7</td>\n",
              "      <td>4</td>\n",
              "      <td>875071561</td>\n",
              "    </tr>\n",
              "  </tbody>\n",
              "</table>\n",
              "</div>"
            ],
            "text/plain": [
              "   1  1.1  5  874965758\n",
              "0  1    2  3  876893171\n",
              "1  1    3  4  878542960\n",
              "2  1    4  3  876893119\n",
              "3  1    5  3  889751712\n",
              "4  1    7  4  875071561"
            ]
          },
          "metadata": {
            "tags": []
          },
          "execution_count": 66
        }
      ]
    },
    {
      "cell_type": "code",
      "metadata": {
        "id": "1_mi26p-T-qc",
        "colab_type": "code",
        "colab": {}
      },
      "source": [
        "training_set = np.array(training_set, dtype='int')"
      ],
      "execution_count": 0,
      "outputs": []
    },
    {
      "cell_type": "code",
      "metadata": {
        "id": "fsCr4D9PwJuF",
        "colab_type": "code",
        "colab": {}
      },
      "source": [
        "test_set = pd.read_csv('ml-100k/u1.test', delimiter='\\t')\n",
        "test_set = np.array(test_set, dtype='int')"
      ],
      "execution_count": 0,
      "outputs": []
    },
    {
      "cell_type": "code",
      "metadata": {
        "id": "JnT253e0wTC9",
        "colab_type": "code",
        "colab": {
          "base_uri": "https://localhost:8080/",
          "height": 35
        },
        "outputId": "b3fa9a37-86b7-47ab-9b5a-a3ea6d1c7590"
      },
      "source": [
        "test_set.shape"
      ],
      "execution_count": 69,
      "outputs": [
        {
          "output_type": "execute_result",
          "data": {
            "text/plain": [
              "(19999, 4)"
            ]
          },
          "metadata": {
            "tags": []
          },
          "execution_count": 69
        }
      ]
    },
    {
      "cell_type": "code",
      "metadata": {
        "id": "WzcZgrDlwmeQ",
        "colab_type": "code",
        "colab": {
          "base_uri": "https://localhost:8080/",
          "height": 35
        },
        "outputId": "570b117a-da5f-44aa-83c6-95e199ba27a3"
      },
      "source": [
        "training_set.shape"
      ],
      "execution_count": 70,
      "outputs": [
        {
          "output_type": "execute_result",
          "data": {
            "text/plain": [
              "(79999, 4)"
            ]
          },
          "metadata": {
            "tags": []
          },
          "execution_count": 70
        }
      ]
    },
    {
      "cell_type": "code",
      "metadata": {
        "id": "bApDqJgywqAd",
        "colab_type": "code",
        "colab": {
          "base_uri": "https://localhost:8080/",
          "height": 35
        },
        "outputId": "700f1be1-f07a-4d65-df73-c3adc4549638"
      },
      "source": [
        "nb_users = int(max(max(training_set[:,0]), max(test_set[:,0])))\n",
        "nb_users"
      ],
      "execution_count": 71,
      "outputs": [
        {
          "output_type": "execute_result",
          "data": {
            "text/plain": [
              "943"
            ]
          },
          "metadata": {
            "tags": []
          },
          "execution_count": 71
        }
      ]
    },
    {
      "cell_type": "code",
      "metadata": {
        "id": "swsH2_M5zWYX",
        "colab_type": "code",
        "colab": {
          "base_uri": "https://localhost:8080/",
          "height": 35
        },
        "outputId": "21ce0f4e-0c05-431b-aa8e-45808a471694"
      },
      "source": [
        "nb_movies = int(max(max(training_set[:,1]), max(test_set[:,1])))\n",
        "nb_movies"
      ],
      "execution_count": 72,
      "outputs": [
        {
          "output_type": "execute_result",
          "data": {
            "text/plain": [
              "1682"
            ]
          },
          "metadata": {
            "tags": []
          },
          "execution_count": 72
        }
      ]
    },
    {
      "cell_type": "code",
      "metadata": {
        "id": "3fBvRNNn2jCA",
        "colab_type": "code",
        "colab": {}
      },
      "source": [
        "# Converting the data into an array with users in lines and movies in columns\n",
        "def convert(data):\n",
        "    new_data = []\n",
        "    for id_users in range(1, nb_users + 1):\n",
        "        id_movies = data[:,1][data[:,0] == id_users]\n",
        "        id_ratings = data[:,2][data[:,0] == id_users]\n",
        "        ratings = np.zeros(nb_movies)\n",
        "        ratings[id_movies - 1] = id_ratings\n",
        "        new_data.append(list(ratings))\n",
        "    return new_data\n",
        "training_set = convert(training_set)\n",
        "test_set = convert(test_set)\n"
      ],
      "execution_count": 0,
      "outputs": []
    },
    {
      "cell_type": "code",
      "metadata": {
        "id": "SBj8oC_f_P0C",
        "colab_type": "code",
        "colab": {}
      },
      "source": [
        "# Converting the data into Torch tensors\n",
        "training_set = torch.FloatTensor(training_set)\n",
        "test_set = torch.FloatTensor(test_set)"
      ],
      "execution_count": 0,
      "outputs": []
    },
    {
      "cell_type": "code",
      "metadata": {
        "id": "GIDveaLjBq1M",
        "colab_type": "code",
        "colab": {}
      },
      "source": [
        "# Creating the architecture of the Neural Network\n",
        "class SAE(nn.Module):\n",
        "    def __init__(self, ):\n",
        "        super(SAE, self).__init__()\n",
        "        self.fc1 = nn.Linear(nb_movies, 20)\n",
        "        self.fc2 = nn.Linear(20, 10)\n",
        "        self.fc3 = nn.Linear(10, 20)\n",
        "        self.fc4 = nn.Linear(20, nb_movies)\n",
        "        self.activation = nn.Sigmoid()\n",
        "    def forward(self, x):\n",
        "        x = self.activation(self.fc1(x))\n",
        "        x = self.activation(self.fc2(x))\n",
        "        x = self.activation(self.fc3(x))\n",
        "        x = self.fc4(x)\n",
        "        return x"
      ],
      "execution_count": 0,
      "outputs": []
    },
    {
      "cell_type": "code",
      "metadata": {
        "id": "2Jf8RTDyByVv",
        "colab_type": "code",
        "colab": {}
      },
      "source": [
        "sae = SAE()\n",
        "criterion = nn.MSELoss()\n",
        "optimizer = optim.RMSprop(sae.parameters(), lr = 0.01, weight_decay = 0.5)\n"
      ],
      "execution_count": 0,
      "outputs": []
    },
    {
      "cell_type": "code",
      "metadata": {
        "id": "mvLMokmkBzVl",
        "colab_type": "code",
        "colab": {
          "base_uri": "https://localhost:8080/",
          "height": 1000
        },
        "outputId": "1140dfd2-bb6f-4089-a723-a0771dce5617"
      },
      "source": [
        "# Training the SAE\n",
        "nb_epoch = 200\n",
        "for epoch in range(1, nb_epoch + 1):\n",
        "    train_loss = 0\n",
        "    s = 0.\n",
        "    for id_user in range(nb_users):\n",
        "        input = Variable(training_set[id_user]).unsqueeze(0)\n",
        "        target = input.clone()\n",
        "        if torch.sum(target.data > 0) > 0:\n",
        "            output = sae(input)\n",
        "            target.require_grad = False\n",
        "            output[target == 0] = 0\n",
        "            loss = criterion(output, target)\n",
        "            mean_corrector = nb_movies/float(torch.sum(target.data > 0) + 1e-10)\n",
        "            loss.backward()\n",
        "            train_loss += np.sqrt(loss.data*mean_corrector)\n",
        "            s += 1.\n",
        "            optimizer.step()\n",
        "    print('epoch: '+str(epoch)+' loss: '+str(train_loss/s))\n"
      ],
      "execution_count": 81,
      "outputs": [
        {
          "output_type": "stream",
          "text": [
            "epoch: 1 loss: tensor(1.7664)\n",
            "epoch: 2 loss: tensor(1.0965)\n",
            "epoch: 3 loss: tensor(1.0534)\n",
            "epoch: 4 loss: tensor(1.0384)\n",
            "epoch: 5 loss: tensor(1.0311)\n",
            "epoch: 6 loss: tensor(1.0263)\n",
            "epoch: 7 loss: tensor(1.0239)\n",
            "epoch: 8 loss: tensor(1.0220)\n",
            "epoch: 9 loss: tensor(1.0206)\n",
            "epoch: 10 loss: tensor(1.0198)\n",
            "epoch: 11 loss: tensor(1.0189)\n",
            "epoch: 12 loss: tensor(1.0184)\n",
            "epoch: 13 loss: tensor(1.0179)\n",
            "epoch: 14 loss: tensor(1.0177)\n",
            "epoch: 15 loss: tensor(1.0174)\n",
            "epoch: 16 loss: tensor(1.0169)\n",
            "epoch: 17 loss: tensor(1.0166)\n",
            "epoch: 18 loss: tensor(1.0163)\n",
            "epoch: 19 loss: tensor(1.0166)\n",
            "epoch: 20 loss: tensor(1.0160)\n",
            "epoch: 21 loss: tensor(1.0163)\n",
            "epoch: 22 loss: tensor(1.0160)\n",
            "epoch: 23 loss: tensor(1.0156)\n",
            "epoch: 24 loss: tensor(1.0159)\n",
            "epoch: 25 loss: tensor(1.0153)\n",
            "epoch: 26 loss: tensor(1.0158)\n",
            "epoch: 27 loss: tensor(1.0156)\n",
            "epoch: 28 loss: tensor(1.0151)\n",
            "epoch: 29 loss: tensor(1.0130)\n",
            "epoch: 30 loss: tensor(1.0121)\n",
            "epoch: 31 loss: tensor(1.0095)\n",
            "epoch: 32 loss: tensor(1.0093)\n",
            "epoch: 33 loss: tensor(1.0052)\n",
            "epoch: 34 loss: tensor(1.0048)\n",
            "epoch: 35 loss: tensor(1.0009)\n",
            "epoch: 36 loss: tensor(1.0013)\n",
            "epoch: 37 loss: tensor(0.9984)\n",
            "epoch: 38 loss: tensor(0.9977)\n",
            "epoch: 39 loss: tensor(0.9949)\n",
            "epoch: 40 loss: tensor(0.9921)\n",
            "epoch: 41 loss: tensor(0.9892)\n",
            "epoch: 42 loss: tensor(0.9911)\n",
            "epoch: 43 loss: tensor(0.9888)\n",
            "epoch: 44 loss: tensor(0.9888)\n",
            "epoch: 45 loss: tensor(0.9822)\n",
            "epoch: 46 loss: tensor(0.9851)\n",
            "epoch: 47 loss: tensor(0.9841)\n",
            "epoch: 48 loss: tensor(0.9895)\n",
            "epoch: 49 loss: tensor(0.9872)\n",
            "epoch: 50 loss: tensor(0.9810)\n",
            "epoch: 51 loss: tensor(0.9779)\n",
            "epoch: 52 loss: tensor(0.9791)\n",
            "epoch: 53 loss: tensor(0.9772)\n",
            "epoch: 54 loss: tensor(0.9741)\n",
            "epoch: 55 loss: tensor(0.9710)\n",
            "epoch: 56 loss: tensor(0.9693)\n",
            "epoch: 57 loss: tensor(0.9662)\n",
            "epoch: 58 loss: tensor(0.9666)\n",
            "epoch: 59 loss: tensor(0.9649)\n",
            "epoch: 60 loss: tensor(0.9642)\n",
            "epoch: 61 loss: tensor(0.9631)\n",
            "epoch: 62 loss: tensor(0.9576)\n",
            "epoch: 63 loss: tensor(0.9594)\n",
            "epoch: 64 loss: tensor(0.9577)\n",
            "epoch: 65 loss: tensor(0.9559)\n",
            "epoch: 66 loss: tensor(0.9540)\n",
            "epoch: 67 loss: tensor(0.9535)\n",
            "epoch: 68 loss: tensor(0.9544)\n",
            "epoch: 69 loss: tensor(0.9511)\n",
            "epoch: 70 loss: tensor(0.9519)\n",
            "epoch: 71 loss: tensor(0.9485)\n",
            "epoch: 72 loss: tensor(0.9515)\n",
            "epoch: 73 loss: tensor(0.9474)\n",
            "epoch: 74 loss: tensor(0.9493)\n",
            "epoch: 75 loss: tensor(0.9446)\n",
            "epoch: 76 loss: tensor(0.9452)\n",
            "epoch: 77 loss: tensor(0.9431)\n",
            "epoch: 78 loss: tensor(0.9440)\n",
            "epoch: 79 loss: tensor(0.9424)\n",
            "epoch: 80 loss: tensor(0.9428)\n",
            "epoch: 81 loss: tensor(0.9403)\n",
            "epoch: 82 loss: tensor(0.9411)\n",
            "epoch: 83 loss: tensor(0.9397)\n",
            "epoch: 84 loss: tensor(0.9407)\n",
            "epoch: 85 loss: tensor(0.9388)\n",
            "epoch: 86 loss: tensor(0.9383)\n",
            "epoch: 87 loss: tensor(0.9367)\n",
            "epoch: 88 loss: tensor(0.9373)\n",
            "epoch: 89 loss: tensor(0.9361)\n",
            "epoch: 90 loss: tensor(0.9364)\n",
            "epoch: 91 loss: tensor(0.9349)\n",
            "epoch: 92 loss: tensor(0.9354)\n",
            "epoch: 93 loss: tensor(0.9344)\n",
            "epoch: 94 loss: tensor(0.9348)\n",
            "epoch: 95 loss: tensor(0.9334)\n",
            "epoch: 96 loss: tensor(0.9339)\n",
            "epoch: 97 loss: tensor(0.9322)\n",
            "epoch: 98 loss: tensor(0.9345)\n",
            "epoch: 99 loss: tensor(0.9380)\n",
            "epoch: 100 loss: tensor(0.9334)\n",
            "epoch: 101 loss: tensor(0.9307)\n",
            "epoch: 102 loss: tensor(0.9309)\n",
            "epoch: 103 loss: tensor(0.9297)\n",
            "epoch: 104 loss: tensor(0.9301)\n",
            "epoch: 105 loss: tensor(0.9289)\n",
            "epoch: 106 loss: tensor(0.9297)\n",
            "epoch: 107 loss: tensor(0.9290)\n",
            "epoch: 108 loss: tensor(0.9294)\n",
            "epoch: 109 loss: tensor(0.9286)\n",
            "epoch: 110 loss: tensor(0.9290)\n",
            "epoch: 111 loss: tensor(0.9279)\n",
            "epoch: 112 loss: tensor(0.9282)\n",
            "epoch: 113 loss: tensor(0.9271)\n",
            "epoch: 114 loss: tensor(0.9276)\n",
            "epoch: 115 loss: tensor(0.9265)\n",
            "epoch: 116 loss: tensor(0.9269)\n",
            "epoch: 117 loss: tensor(0.9260)\n",
            "epoch: 118 loss: tensor(0.9262)\n",
            "epoch: 119 loss: tensor(0.9253)\n",
            "epoch: 120 loss: tensor(0.9259)\n",
            "epoch: 121 loss: tensor(0.9248)\n",
            "epoch: 122 loss: tensor(0.9253)\n",
            "epoch: 123 loss: tensor(0.9241)\n",
            "epoch: 124 loss: tensor(0.9247)\n",
            "epoch: 125 loss: tensor(0.9237)\n",
            "epoch: 126 loss: tensor(0.9240)\n",
            "epoch: 127 loss: tensor(0.9228)\n",
            "epoch: 128 loss: tensor(0.9237)\n",
            "epoch: 129 loss: tensor(0.9224)\n",
            "epoch: 130 loss: tensor(0.9238)\n",
            "epoch: 131 loss: tensor(0.9225)\n",
            "epoch: 132 loss: tensor(0.9231)\n",
            "epoch: 133 loss: tensor(0.9216)\n",
            "epoch: 134 loss: tensor(0.9224)\n",
            "epoch: 135 loss: tensor(0.9210)\n",
            "epoch: 136 loss: tensor(0.9216)\n",
            "epoch: 137 loss: tensor(0.9203)\n",
            "epoch: 138 loss: tensor(0.9213)\n",
            "epoch: 139 loss: tensor(0.9201)\n",
            "epoch: 140 loss: tensor(0.9211)\n",
            "epoch: 141 loss: tensor(0.9198)\n",
            "epoch: 142 loss: tensor(0.9207)\n",
            "epoch: 143 loss: tensor(0.9195)\n",
            "epoch: 144 loss: tensor(0.9202)\n",
            "epoch: 145 loss: tensor(0.9190)\n",
            "epoch: 146 loss: tensor(0.9197)\n",
            "epoch: 147 loss: tensor(0.9184)\n",
            "epoch: 148 loss: tensor(0.9193)\n",
            "epoch: 149 loss: tensor(0.9183)\n",
            "epoch: 150 loss: tensor(0.9191)\n",
            "epoch: 151 loss: tensor(0.9180)\n",
            "epoch: 152 loss: tensor(0.9186)\n",
            "epoch: 153 loss: tensor(0.9178)\n",
            "epoch: 154 loss: tensor(0.9180)\n",
            "epoch: 155 loss: tensor(0.9172)\n",
            "epoch: 156 loss: tensor(0.9177)\n",
            "epoch: 157 loss: tensor(0.9171)\n",
            "epoch: 158 loss: tensor(0.9175)\n",
            "epoch: 159 loss: tensor(0.9168)\n",
            "epoch: 160 loss: tensor(0.9166)\n",
            "epoch: 161 loss: tensor(0.9158)\n",
            "epoch: 162 loss: tensor(0.9167)\n",
            "epoch: 163 loss: tensor(0.9161)\n",
            "epoch: 164 loss: tensor(0.9164)\n",
            "epoch: 165 loss: tensor(0.9156)\n",
            "epoch: 166 loss: tensor(0.9163)\n",
            "epoch: 167 loss: tensor(0.9153)\n",
            "epoch: 168 loss: tensor(0.9160)\n",
            "epoch: 169 loss: tensor(0.9152)\n",
            "epoch: 170 loss: tensor(0.9156)\n",
            "epoch: 171 loss: tensor(0.9151)\n",
            "epoch: 172 loss: tensor(0.9158)\n",
            "epoch: 173 loss: tensor(0.9147)\n",
            "epoch: 174 loss: tensor(0.9155)\n",
            "epoch: 175 loss: tensor(0.9145)\n",
            "epoch: 176 loss: tensor(0.9152)\n",
            "epoch: 177 loss: tensor(0.9145)\n",
            "epoch: 178 loss: tensor(0.9147)\n",
            "epoch: 179 loss: tensor(0.9138)\n",
            "epoch: 180 loss: tensor(0.9142)\n",
            "epoch: 181 loss: tensor(0.9139)\n",
            "epoch: 182 loss: tensor(0.9140)\n",
            "epoch: 183 loss: tensor(0.9139)\n",
            "epoch: 184 loss: tensor(0.9138)\n",
            "epoch: 185 loss: tensor(0.9132)\n",
            "epoch: 186 loss: tensor(0.9132)\n",
            "epoch: 187 loss: tensor(0.9128)\n",
            "epoch: 188 loss: tensor(0.9131)\n",
            "epoch: 189 loss: tensor(0.9133)\n",
            "epoch: 190 loss: tensor(0.9135)\n",
            "epoch: 191 loss: tensor(0.9129)\n",
            "epoch: 192 loss: tensor(0.9132)\n",
            "epoch: 193 loss: tensor(0.9126)\n",
            "epoch: 194 loss: tensor(0.9127)\n",
            "epoch: 195 loss: tensor(0.9122)\n",
            "epoch: 196 loss: tensor(0.9124)\n",
            "epoch: 197 loss: tensor(0.9119)\n",
            "epoch: 198 loss: tensor(0.9118)\n",
            "epoch: 199 loss: tensor(0.9113)\n",
            "epoch: 200 loss: tensor(0.9120)\n"
          ],
          "name": "stdout"
        }
      ]
    },
    {
      "cell_type": "code",
      "metadata": {
        "id": "V1Dy4XkOB0Vk",
        "colab_type": "code",
        "colab": {
          "base_uri": "https://localhost:8080/",
          "height": 89
        },
        "outputId": "b2468a2c-a55d-4bad-f607-7cfee34029d2"
      },
      "source": [
        "# Testing the SAE\n",
        "test_loss = 0\n",
        "s = 0.\n",
        "for id_user in range(nb_users):\n",
        "    input = Variable(training_set[id_user]).unsqueeze(0)\n",
        "    target = Variable(test_set[id_user])\n",
        "    if torch.sum(target.data > 0) > 0:\n",
        "        output = sae(input)\n",
        "        target.require_grad = False\n",
        "        output[0,target == 0] = 0\n",
        "        loss = criterion(output, target)\n",
        "        mean_corrector = nb_movies/float(torch.sum(target.data > 0) + 1e-10)\n",
        "        test_loss += np.sqrt(loss.data*mean_corrector)\n",
        "        s += 1.\n",
        "print('test loss: '+str(test_loss/s))"
      ],
      "execution_count": 83,
      "outputs": [
        {
          "output_type": "stream",
          "text": [
            "/usr/local/lib/python3.6/dist-packages/torch/nn/modules/loss.py:443: UserWarning: Using a target size (torch.Size([1682])) that is different to the input size (torch.Size([1, 1682])). This will likely lead to incorrect results due to broadcasting. Please ensure they have the same size.\n",
            "  return F.mse_loss(input, target, reduction=self.reduction)\n"
          ],
          "name": "stderr"
        },
        {
          "output_type": "stream",
          "text": [
            "test loss: tensor(0.9549)\n"
          ],
          "name": "stdout"
        }
      ]
    },
    {
      "cell_type": "code",
      "metadata": {
        "id": "A5RbWg2wODgU",
        "colab_type": "code",
        "colab": {}
      },
      "source": [
        ""
      ],
      "execution_count": 0,
      "outputs": []
    }
  ]
}